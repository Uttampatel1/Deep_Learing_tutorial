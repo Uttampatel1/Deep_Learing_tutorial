{
 "cells": [
  {
   "cell_type": "code",
   "execution_count": 1,
   "metadata": {},
   "outputs": [
    {
     "name": "stderr",
     "output_type": "stream",
     "text": [
      "2023-08-14 10:32:49.338057: I tensorflow/tsl/cuda/cudart_stub.cc:28] Could not find cuda drivers on your machine, GPU will not be used.\n",
      "2023-08-14 10:32:49.408748: I tensorflow/tsl/cuda/cudart_stub.cc:28] Could not find cuda drivers on your machine, GPU will not be used.\n",
      "2023-08-14 10:32:49.410617: I tensorflow/core/platform/cpu_feature_guard.cc:182] This TensorFlow binary is optimized to use available CPU instructions in performance-critical operations.\n",
      "To enable the following instructions: AVX2 FMA, in other operations, rebuild TensorFlow with the appropriate compiler flags.\n",
      "2023-08-14 10:32:50.631615: W tensorflow/compiler/tf2tensorrt/utils/py_utils.cc:38] TF-TRT Warning: Could not find TensorRT\n"
     ]
    }
   ],
   "source": [
    "import tensorflow as tf"
   ]
  },
  {
   "cell_type": "markdown",
   "metadata": {},
   "source": [
    "<h3 style='color:purple'>Create tf dataset from a list</h3>"
   ]
  },
  {
   "cell_type": "code",
   "execution_count": 2,
   "metadata": {
    "scrolled": true
   },
   "outputs": [
    {
     "data": {
      "text/plain": [
       "<_TensorSliceDataset element_spec=TensorSpec(shape=(), dtype=tf.int32, name=None)>"
      ]
     },
     "execution_count": 2,
     "metadata": {},
     "output_type": "execute_result"
    }
   ],
   "source": [
    "daily_sales_numbers = [21, 22, -108, 31, -1, 32, 34,31]\n",
    "\n",
    "tf_dataset = tf.data.Dataset.from_tensor_slices(daily_sales_numbers)\n",
    "tf_dataset"
   ]
  },
  {
   "cell_type": "markdown",
   "metadata": {},
   "source": [
    "<h3 style='color:purple'>Iterate through tf dataset</h3>"
   ]
  },
  {
   "cell_type": "code",
   "execution_count": 3,
   "metadata": {
    "scrolled": true
   },
   "outputs": [
    {
     "name": "stdout",
     "output_type": "stream",
     "text": [
      "21\n",
      "22\n",
      "-108\n",
      "31\n",
      "-1\n",
      "32\n",
      "34\n",
      "31\n"
     ]
    }
   ],
   "source": [
    "for sales in tf_dataset:\n",
    "    print(sales.numpy())"
   ]
  },
  {
   "cell_type": "markdown",
   "metadata": {},
   "source": [
    "<h3 style='color:purple'>Iterate through elements as numpy elements</h3>"
   ]
  },
  {
   "cell_type": "code",
   "execution_count": 4,
   "metadata": {},
   "outputs": [
    {
     "name": "stdout",
     "output_type": "stream",
     "text": [
      "21\n",
      "22\n",
      "-108\n",
      "31\n",
      "-1\n",
      "32\n",
      "34\n",
      "31\n"
     ]
    }
   ],
   "source": [
    "for sales in tf_dataset.as_numpy_iterator():\n",
    "    print(sales)"
   ]
  },
  {
   "cell_type": "markdown",
   "metadata": {},
   "source": [
    "<h3 style='color:purple'>Iterate through first n elements in tf dataset</h3>"
   ]
  },
  {
   "cell_type": "code",
   "execution_count": 5,
   "metadata": {
    "scrolled": true
   },
   "outputs": [
    {
     "name": "stdout",
     "output_type": "stream",
     "text": [
      "21\n",
      "22\n",
      "-108\n"
     ]
    }
   ],
   "source": [
    "for sales in tf_dataset.take(3):\n",
    "    print(sales.numpy())"
   ]
  },
  {
   "cell_type": "markdown",
   "metadata": {},
   "source": [
    "<h3 style='color:purple'>Filter sales numbers that are < 0</h3>"
   ]
  },
  {
   "cell_type": "code",
   "execution_count": 6,
   "metadata": {
    "scrolled": false
   },
   "outputs": [
    {
     "name": "stdout",
     "output_type": "stream",
     "text": [
      "21\n",
      "22\n",
      "31\n",
      "32\n",
      "34\n",
      "31\n"
     ]
    }
   ],
   "source": [
    "tf_dataset = tf_dataset.filter(lambda x: x>0)\n",
    "for sales in tf_dataset.as_numpy_iterator():\n",
    "    print(sales)"
   ]
  },
  {
   "cell_type": "code",
   "execution_count": 7,
   "metadata": {},
   "outputs": [],
   "source": [
    "# custom print statments\n",
    "def pp(data):\n",
    "    list = []\n",
    "    for i in data.as_numpy_iterator():\n",
    "        list.append(i)\n",
    "    return list"
   ]
  },
  {
   "cell_type": "markdown",
   "metadata": {},
   "source": [
    "<h3 style='color:purple'>Convert sales numbers from USA dollars ($) to Indian Rupees (INR) Assuming 1->72 conversation rate</h3>"
   ]
  },
  {
   "cell_type": "code",
   "execution_count": 8,
   "metadata": {
    "scrolled": false
   },
   "outputs": [
    {
     "name": "stdout",
     "output_type": "stream",
     "text": [
      "1512\n",
      "1584\n",
      "2232\n",
      "2304\n",
      "2448\n",
      "2232\n"
     ]
    }
   ],
   "source": [
    "tf_dataset = tf_dataset.map(lambda x: x*72)\n",
    "for sales in tf_dataset.as_numpy_iterator():\n",
    "    print(sales)"
   ]
  },
  {
   "cell_type": "markdown",
   "metadata": {},
   "source": [
    "<h3 style='color:purple'>Shuffe</h3>"
   ]
  },
  {
   "cell_type": "code",
   "execution_count": 9,
   "metadata": {},
   "outputs": [
    {
     "name": "stdout",
     "output_type": "stream",
     "text": [
      "1512\n",
      "2232\n",
      "1584\n",
      "2448\n",
      "2304\n",
      "2232\n"
     ]
    }
   ],
   "source": [
    "tf_dataset = tf_dataset.shuffle(2)\n",
    "for sales in tf_dataset.as_numpy_iterator():\n",
    "    print(sales)"
   ]
  },
  {
   "cell_type": "markdown",
   "metadata": {},
   "source": [
    "https://stackoverflow.com/questions/53514495/what-does-batch-repeat-and-shuffle-do-with-tensorflow-dataset"
   ]
  },
  {
   "cell_type": "markdown",
   "metadata": {},
   "source": [
    "<h3 style='color:purple'>Batching</h3>"
   ]
  },
  {
   "cell_type": "code",
   "execution_count": 10,
   "metadata": {
    "scrolled": true
   },
   "outputs": [
    {
     "name": "stdout",
     "output_type": "stream",
     "text": [
      "[1512 2232]\n",
      "[2304 1584]\n",
      "[2448 2232]\n"
     ]
    }
   ],
   "source": [
    "for sales_batch in tf_dataset.batch(2):\n",
    "    print(sales_batch.numpy())"
   ]
  },
  {
   "cell_type": "markdown",
   "metadata": {},
   "source": [
    "<h3 style='color:purple'>Perform all of the above operations in one shot</h3>"
   ]
  },
  {
   "cell_type": "code",
   "execution_count": 11,
   "metadata": {
    "scrolled": true
   },
   "outputs": [
    {
     "name": "stdout",
     "output_type": "stream",
     "text": [
      "[1584 2232]\n",
      "[1512 2304]\n",
      "[2448 2232]\n"
     ]
    }
   ],
   "source": [
    "tf_dataset = tf.data.Dataset.from_tensor_slices(daily_sales_numbers)\n",
    "\n",
    "tf_dataset = tf_dataset.filter(lambda x: x>0).map(lambda y: y*72).shuffle(2).batch(2)\n",
    "for sales in tf_dataset.as_numpy_iterator():\n",
    "    print(sales)"
   ]
  },
  {
   "cell_type": "markdown",
   "metadata": {},
   "source": [
    "<h3>Images</h3>"
   ]
  },
  {
   "cell_type": "code",
   "execution_count": 12,
   "metadata": {},
   "outputs": [],
   "source": [
    "images_ds = tf.data.Dataset.list_files('images/*/*', shuffle=False)"
   ]
  },
  {
   "cell_type": "code",
   "execution_count": 13,
   "metadata": {},
   "outputs": [
    {
     "data": {
      "text/plain": [
       "130"
      ]
     },
     "execution_count": 13,
     "metadata": {},
     "output_type": "execute_result"
    }
   ],
   "source": [
    "image_count = len(images_ds)\n",
    "image_count"
   ]
  },
  {
   "cell_type": "code",
   "execution_count": 14,
   "metadata": {},
   "outputs": [
    {
     "data": {
      "text/plain": [
       "tensorflow.python.data.ops.from_tensor_slices_op._TensorSliceDataset"
      ]
     },
     "execution_count": 14,
     "metadata": {},
     "output_type": "execute_result"
    }
   ],
   "source": [
    "type(images_ds)"
   ]
  },
  {
   "cell_type": "code",
   "execution_count": 15,
   "metadata": {},
   "outputs": [
    {
     "name": "stdout",
     "output_type": "stream",
     "text": [
      "b'images/cat/20 Reasons Why Cats Make the Best Pets....jpg'\n",
      "b'images/cat/7 Foods Your Cat Can_t Eat.jpg'\n",
      "b'images/cat/A cat appears to have caught the....jpg'\n"
     ]
    }
   ],
   "source": [
    "for file in images_ds.take(3):\n",
    "    print(file.numpy())"
   ]
  },
  {
   "cell_type": "code",
   "execution_count": 16,
   "metadata": {},
   "outputs": [
    {
     "name": "stdout",
     "output_type": "stream",
     "text": [
      "b'images/dog/66 gifts for dogs or dog lovers to get_yythk....jpg'\n",
      "b'images/dog/8 amazing Indian dog breeds that....png'\n",
      "b'images/dog/List of Dog Breeds _ Petfinder.jpg'\n"
     ]
    }
   ],
   "source": [
    "images_ds = images_ds.shuffle(200)\n",
    "for file in images_ds.take(3):\n",
    "    print(file.numpy())"
   ]
  },
  {
   "cell_type": "code",
   "execution_count": 17,
   "metadata": {},
   "outputs": [],
   "source": [
    "class_names = [\"cat\",\"dog\"]"
   ]
  },
  {
   "cell_type": "code",
   "execution_count": 18,
   "metadata": {},
   "outputs": [],
   "source": [
    "train_size = int(image_count*0.8)\n",
    "train_ds = images_ds.take(train_size)\n",
    "test_ds = images_ds.skip(train_size)"
   ]
  },
  {
   "cell_type": "code",
   "execution_count": 19,
   "metadata": {},
   "outputs": [
    {
     "data": {
      "text/plain": [
       "104"
      ]
     },
     "execution_count": 19,
     "metadata": {},
     "output_type": "execute_result"
    }
   ],
   "source": [
    "len(train_ds)"
   ]
  },
  {
   "cell_type": "code",
   "execution_count": 20,
   "metadata": {},
   "outputs": [
    {
     "data": {
      "text/plain": [
       "26"
      ]
     },
     "execution_count": 20,
     "metadata": {},
     "output_type": "execute_result"
    }
   ],
   "source": [
    "len(test_ds)"
   ]
  },
  {
   "cell_type": "code",
   "execution_count": 21,
   "metadata": {},
   "outputs": [],
   "source": [
    "def get_label(file_path):\n",
    "    import os\n",
    "    parts = tf.strings.split(file_path, os.path.sep)\n",
    "    return parts[-2]"
   ]
  },
  {
   "cell_type": "code",
   "execution_count": 23,
   "metadata": {
    "scrolled": true
   },
   "outputs": [
    {
     "data": {
      "text/plain": [
       "<tf.Tensor: shape=(), dtype=string, numpy=b'dog'>"
      ]
     },
     "execution_count": 23,
     "metadata": {},
     "output_type": "execute_result"
    }
   ],
   "source": [
    "get_label(\"images/dog/66 gifts for dogs or dog lovers to get_yythk....jpg\")"
   ]
  },
  {
   "cell_type": "code",
   "execution_count": 24,
   "metadata": {},
   "outputs": [],
   "source": [
    "def process_image(file_path):\n",
    "    label = get_label(file_path)\n",
    "    img = tf.io.read_file(file_path) # read the raw data from the file as a string\n",
    "    img = tf.image.decode_jpeg(img, channels=3) # convert the compressed string to a 3D uint8 tensor\n",
    "    img = tf.image.resize(img,[128,128])\n",
    "    return img, label"
   ]
  },
  {
   "cell_type": "code",
   "execution_count": 25,
   "metadata": {
    "scrolled": false
   },
   "outputs": [
    {
     "data": {
      "text/plain": [
       "array([[[152.65662 , 131.65662 , 110.65662 ],\n",
       "        [148.89807 , 127.89807 , 106.89807 ],\n",
       "        [156.20251 , 133.85876 , 115.53064 ],\n",
       "        [163.85156 , 142.85156 , 123.85156 ],\n",
       "        [163.54016 , 144.54016 , 127.54016 ],\n",
       "        [166.      , 149.      , 133.      ],\n",
       "        [169.54688 , 152.54688 , 136.54688 ],\n",
       "        [171.      , 155.      , 142.      ],\n",
       "        [173.49634 , 157.49634 , 144.49634 ],\n",
       "        [172.      , 160.      , 148.      ],\n",
       "        [173.      , 161.      , 149.      ],\n",
       "        [ 39.247192,  37.684692,  24.684692],\n",
       "        [178.64062 , 165.64062 , 156.64062 ],\n",
       "        [177.59045 , 167.59045 , 157.59045 ],\n",
       "        [179.      , 169.      , 160.      ],\n",
       "        [180.      , 170.      , 161.      ],\n",
       "        [181.      , 172.      , 163.      ],\n",
       "        [182.38281 , 173.38281 , 164.38281 ],\n",
       "        [185.      , 176.      , 167.      ],\n",
       "        [185.2218  , 178.2218  , 168.2218  ],\n",
       "        [185.57251 , 175.90063 , 165.90063 ],\n",
       "        [183.38281 , 176.22656 , 162.80469 ],\n",
       "        [188.      , 181.      , 171.      ],\n",
       "        [186.38281 , 182.38281 , 173.38281 ],\n",
       "        [188.01562 , 184.01562 , 175.01562 ],\n",
       "        [191.      , 184.      , 176.      ],\n",
       "        [188.92188 , 184.92188 , 175.92188 ],\n",
       "        [190.      , 186.      , 177.      ],\n",
       "        [191.      , 187.      , 178.      ],\n",
       "        [194.34375 , 188.32812 , 180.      ],\n",
       "        [181.4375  , 169.23438 , 158.04688 ],\n",
       "        [195.73438 , 190.73438 , 184.73438 ],\n",
       "        [196.      , 191.      , 185.      ],\n",
       "        [194.58594 , 189.58594 , 183.58594 ],\n",
       "        [196.      , 191.      , 185.      ],\n",
       "        [197.      , 192.      , 186.      ],\n",
       "        [197.      , 194.      , 187.      ],\n",
       "        [198.      , 193.      , 187.      ],\n",
       "        [194.1156  , 190.02185 , 184.47498 ],\n",
       "        [200.28308 , 193.25183 , 183.26746 ],\n",
       "        [197.      , 194.      , 187.      ],\n",
       "        [198.      , 195.      , 188.      ],\n",
       "        [198.      , 193.      , 187.      ],\n",
       "        [197.      , 194.      , 187.      ],\n",
       "        [198.      , 195.      , 190.      ],\n",
       "        [197.      , 194.      , 189.      ],\n",
       "        [196.      , 193.      , 186.      ],\n",
       "        [154.63281 , 144.16406 , 131.22656 ],\n",
       "        [196.      , 193.      , 186.      ],\n",
       "        [197.      , 194.      , 189.      ],\n",
       "        [196.17188 , 193.17188 , 188.17188 ],\n",
       "        [195.64062 , 192.64062 , 185.64062 ],\n",
       "        [196.      , 191.      , 185.      ],\n",
       "        [195.      , 190.      , 184.      ],\n",
       "        [192.682   , 187.682   , 181.682   ],\n",
       "        [192.      , 187.      , 181.      ],\n",
       "        [195.      , 188.      , 182.      ],\n",
       "        [193.      , 188.      , 182.      ],\n",
       "        [191.      , 186.      , 180.      ],\n",
       "        [190.      , 185.      , 179.      ],\n",
       "        [186.61719 , 182.61719 , 173.61719 ],\n",
       "        [184.      , 180.      , 171.      ],\n",
       "        [184.31213 , 180.31213 , 171.31213 ],\n",
       "        [181.36707 , 174.89832 , 167.42957 ],\n",
       "        [175.22644 , 162.75769 , 154.55457 ],\n",
       "        [178.      , 171.      , 161.      ],\n",
       "        [176.      , 167.      , 158.      ],\n",
       "        [174.375   , 166.375   , 155.375   ],\n",
       "        [171.76672 , 163.76672 , 152.76672 ],\n",
       "        [171.61719 , 161.61719 , 151.61719 ],\n",
       "        [167.54688 , 157.54688 , 145.54688 ],\n",
       "        [159.67969 , 142.69531 , 126.71094 ],\n",
       "        [164.54272 , 149.57397 , 136.57397 ],\n",
       "        [155.56714 , 144.56714 , 126.56714 ],\n",
       "        [156.96094 , 140.96094 , 124.96094 ],\n",
       "        [150.55249 , 133.55249 , 115.55249 ],\n",
       "        [145.74219 , 126.74219 , 109.74219 ],\n",
       "        [133.90747 , 115.90747 ,  95.90747 ],\n",
       "        [125.61719 , 104.61719 ,  85.61719 ],\n",
       "        [ 97.9375  ,  87.640625,  69.40625 ],\n",
       "        [172.53125 , 169.53125 , 160.53125 ],\n",
       "        [174.29688 , 167.29688 , 157.29688 ],\n",
       "        [167.8717  , 155.8717  , 143.8717  ],\n",
       "        [162.61719 , 141.61719 , 123.89844 ],\n",
       "        [145.4469  , 116.4469  ,  98.4469  ],\n",
       "        [140.37756 , 102.37756 ,  83.37756 ],\n",
       "        [ 91.49451 ,  65.49451 ,  48.494507],\n",
       "        [106.80261 ,  81.80261 ,  61.802612],\n",
       "        [126.42969 , 100.42969 ,  83.42969 ],\n",
       "        [126.859375, 103.859375,  85.859375],\n",
       "        [122.334595,  99.334595,  81.334595],\n",
       "        [120.850464, 101.850464,  84.850464],\n",
       "        [112.66406 ,  93.66406 ,  76.66406 ],\n",
       "        [ 92.      ,  76.      ,  60.      ],\n",
       "        [ 83.5238  ,  69.91443 ,  53.117554],\n",
       "        [122.12537 , 100.12537 ,  79.12537 ],\n",
       "        [118.41406 ,  96.41406 ,  75.41406 ],\n",
       "        [121.573975,  99.573975,  76.980225],\n",
       "        [126.07092 , 104.07092 ,  81.07092 ],\n",
       "        [122.10156 ,  75.10156 ,  47.382812],\n",
       "        [120.765625,  73.765625,  45.765625],\n",
       "        [ 37.765625,  21.078125,  13.078125],\n",
       "        [ 35.      ,  22.      ,  13.      ],\n",
       "        [ 35.      ,  22.      ,  14.      ],\n",
       "        [ 88.      ,  76.      ,  60.      ],\n",
       "        [ 90.01099 ,  78.01099 ,  64.01099 ],\n",
       "        [ 88.572754,  76.572754,  62.572754],\n",
       "        [ 97.463135,  81.463135,  68.463135],\n",
       "        [ 97.53906 ,  80.53906 ,  64.53906 ],\n",
       "        [104.934204,  87.934204,  71.934204],\n",
       "        [101.43396 ,  82.43396 ,  67.43396 ],\n",
       "        [101.17944 ,  78.17944 ,  64.17944 ],\n",
       "        [ 91.70691 ,  67.70691 ,  57.70691 ],\n",
       "        [ 63.023438,  45.023438,  35.023438],\n",
       "        [ 37.      ,  31.      ,  19.      ],\n",
       "        [ 35.52173 ,  26.521729,  17.521729],\n",
       "        [ 39.      ,  26.      ,  17.      ],\n",
       "        [ 35.617188,  25.617188,  16.617188],\n",
       "        [ 23.      ,  20.      ,  13.      ],\n",
       "        [ 23.      ,  20.      ,  13.      ],\n",
       "        [ 37.015625,  28.015625,  19.015625],\n",
       "        [ 38.      ,  29.      ,  20.      ],\n",
       "        [ 39.      ,  30.      ,  21.      ],\n",
       "        [ 39.      ,  30.      ,  21.      ],\n",
       "        [ 37.      ,  28.      ,  19.      ],\n",
       "        [ 36.      ,  27.      ,  18.      ],\n",
       "        [ 36.      ,  27.      ,  18.      ],\n",
       "        [ 34.      ,  27.      ,  17.      ]],\n",
       "\n",
       "       [[154.59375 , 133.59375 , 112.59375 ],\n",
       "        [152.44531 , 131.44531 , 110.44531 ],\n",
       "        [151.78491 , 130.78491 , 111.58545 ],\n",
       "        [164.89331 , 143.89331 , 124.89331 ],\n",
       "        [162.02551 , 143.02551 , 126.02551 ],\n",
       "        [168.05872 , 151.05872 , 135.05872 ],\n",
       "        [169.      , 152.      , 136.      ],\n",
       "        [170.      , 154.      , 140.99536 ],\n",
       "        [173.51562 , 157.51562 , 144.51562 ],\n",
       "        [175.25    , 163.25    , 151.25    ],\n",
       "        [173.      , 161.      , 149.      ],\n",
       "        [ 63.99939 ,  58.43689 ,  46.172485],\n",
       "        [177.64062 , 164.64062 , 155.64062 ],\n",
       "        [177.65625 , 167.65625 , 157.65625 ],\n",
       "        [178.55469 , 168.55469 , 159.55469 ],\n",
       "        [181.81677 , 171.81677 , 162.81677 ],\n",
       "        [182.23438 , 173.23438 , 164.23438 ],\n",
       "        [183.      , 174.      , 165.      ],\n",
       "        [185.      , 176.      , 167.      ],\n",
       "        [184.75647 , 177.75647 , 167.75647 ],\n",
       "        [184.89062 , 175.48315 , 165.35095 ],\n",
       "        [184.82019 , 177.49231 , 164.2815  ],\n",
       "        [188.      , 181.      , 171.      ],\n",
       "        [187.      , 183.      , 174.      ],\n",
       "        [188.      , 184.      , 175.      ],\n",
       "        [190.      , 183.      , 175.      ],\n",
       "        [188.07812 , 184.07812 , 175.07812 ],\n",
       "        [190.      , 186.      , 177.      ],\n",
       "        [191.      , 187.      , 178.      ],\n",
       "        [195.01562 , 189.      , 180.67188 ],\n",
       "        [173.36829 , 160.92859 , 149.85938 ],\n",
       "        [195.73438 , 190.73438 , 184.73438 ],\n",
       "        [194.89099 , 189.89099 , 183.89099 ],\n",
       "        [196.      , 191.      , 185.      ],\n",
       "        [196.      , 191.      , 185.      ],\n",
       "        [197.      , 192.      , 186.      ],\n",
       "        [197.      , 194.      , 187.      ],\n",
       "        [197.      , 192.      , 186.      ],\n",
       "        [194.70789 , 190.47961 , 185.      ],\n",
       "        [196.02344 , 188.69763 , 178.85706 ],\n",
       "        [197.      , 194.      , 187.      ],\n",
       "        [197.      , 194.      , 187.      ],\n",
       "        [197.23425 , 192.23425 , 186.23425 ],\n",
       "        [197.      , 194.      , 187.      ],\n",
       "        [197.      , 194.      , 189.      ],\n",
       "        [194.85156 , 191.85156 , 186.85156 ],\n",
       "        [195.29688 , 192.29688 , 185.29688 ],\n",
       "        [160.58167 , 150.11292 , 137.17542 ],\n",
       "        [196.      , 193.      , 186.      ],\n",
       "        [197.      , 194.      , 189.      ],\n",
       "        [197.      , 194.      , 189.      ],\n",
       "        [196.      , 193.      , 186.      ],\n",
       "        [195.      , 190.      , 184.      ],\n",
       "        [194.      , 189.      , 183.      ],\n",
       "        [193.      , 188.      , 182.      ],\n",
       "        [190.48438 , 185.48438 , 179.48438 ],\n",
       "        [194.99536 , 188.      , 181.70776 ],\n",
       "        [192.      , 187.      , 181.      ],\n",
       "        [190.      , 185.      , 179.      ],\n",
       "        [186.85156 , 181.85156 , 175.85156 ],\n",
       "        [184.85938 , 180.85938 , 171.85938 ],\n",
       "        [183.0487  , 179.0487  , 170.0487  ],\n",
       "        [181.15735 , 177.15735 , 168.15735 ],\n",
       "        [179.89807 , 173.42932 , 165.96057 ],\n",
       "        [172.0625  , 159.63318 , 151.31177 ],\n",
       "        [176.      , 169.      , 159.      ],\n",
       "        [173.01562 , 164.01562 , 155.01562 ],\n",
       "        [169.85938 , 161.85938 , 150.85938 ],\n",
       "        [169.61267 , 161.61267 , 150.61267 ],\n",
       "        [167.      , 157.      , 147.      ],\n",
       "        [164.39062 , 154.94531 , 138.09375 ],\n",
       "        [148.6062  , 131.32959 , 115.49133 ],\n",
       "        [161.42651 , 146.30469 , 133.30469 ],\n",
       "        [156.04688 , 140.04688 , 124.046875],\n",
       "        [152.91418 , 136.91418 , 120.914185],\n",
       "        [148.14844 , 131.14844 , 113.14844 ],\n",
       "        [141.30603 , 122.30603 , 105.30603 ],\n",
       "        [131.12292 , 113.122925,  93.122925],\n",
       "        [125.10437 , 104.10437 ,  85.10437 ],\n",
       "        [ 99.32031 ,  89.02344 ,  70.78906 ],\n",
       "        [170.76562 , 167.76562 , 158.76562 ],\n",
       "        [175.65906 , 168.65906 , 158.65906 ],\n",
       "        [169.17188 , 157.17188 , 145.17188 ],\n",
       "        [156.50916 , 135.21228 , 117.64197 ],\n",
       "        [142.91223 , 113.91223 ,  95.91223 ],\n",
       "        [140.29663 , 102.29663 ,  83.29663 ],\n",
       "        [ 91.99304 ,  65.99304 ,  48.993042],\n",
       "        [104.56091 ,  79.56091 ,  59.560913],\n",
       "        [124.107056,  98.107056,  81.107056],\n",
       "        [126.69055 , 103.69055 ,  85.69055 ],\n",
       "        [121.03882 ,  98.03882 ,  80.03882 ],\n",
       "        [116.95764 ,  97.95764 ,  80.95764 ],\n",
       "        [113.27344 ,  94.27344 ,  77.27344 ],\n",
       "        [ 91.85156 ,  75.85156 ,  59.851562],\n",
       "        [ 87.900635,  74.29126 ,  57.494385],\n",
       "        [111.04724 ,  89.04724 ,  68.04724 ],\n",
       "        [116.      ,  94.      ,  73.      ],\n",
       "        [121.526855,  99.526855,  76.933105],\n",
       "        [127.49219 , 105.49219 ,  82.49219 ],\n",
       "        [118.71875 ,  71.71875 ,  43.958252],\n",
       "        [122.      ,  75.      ,  47.      ],\n",
       "        [ 38.57007 ,  22.29309 ,  14.15625 ],\n",
       "        [ 35.      ,  22.      ,  13.      ],\n",
       "        [ 35.710083,  23.148438,  15.002319],\n",
       "        [ 87.      ,  74.85156 ,  58.851562],\n",
       "        [ 90.85156 ,  78.85156 ,  64.85156 ],\n",
       "        [ 91.85156 ,  79.85156 ,  65.85156 ],\n",
       "        [ 93.59912 ,  77.863525,  64.863525],\n",
       "        [ 92.54553 ,  79.54553 ,  62.598877],\n",
       "        [ 97.85156 ,  80.85156 ,  64.85156 ],\n",
       "        [100.10437 ,  81.10437 ,  66.10437 ],\n",
       "        [106.14844 ,  83.14844 ,  69.14844 ],\n",
       "        [ 81.772705,  61.772705,  50.772705],\n",
       "        [ 53.703125,  39.703125,  28.703125],\n",
       "        [ 38.      ,  32.      ,  20.      ],\n",
       "        [ 37.359375,  28.359375,  19.359375],\n",
       "        [ 38.      ,  25.      ,  16.      ],\n",
       "        [ 32.515503,  22.578125,  13.578125],\n",
       "        [ 22.      ,  19.      ,  12.      ],\n",
       "        [ 23.484375,  20.484375,  13.484375],\n",
       "        [ 38.      ,  29.      ,  20.      ],\n",
       "        [ 38.      ,  29.      ,  20.      ],\n",
       "        [ 39.      ,  30.      ,  21.      ],\n",
       "        [ 37.851562,  28.851562,  19.851562],\n",
       "        [ 38.8385  ,  29.838501,  20.838501],\n",
       "        [ 37.      ,  28.      ,  19.      ],\n",
       "        [ 35.      ,  26.      ,  17.      ],\n",
       "        [ 33.      ,  26.      ,  16.      ]]], dtype=float32)"
      ]
     },
     "execution_count": 25,
     "metadata": {},
     "output_type": "execute_result"
    }
   ],
   "source": [
    "img, label = process_image(\"images/dog/66 gifts for dogs or dog lovers to get_yythk....jpg\")\n",
    "img.numpy()[:2]"
   ]
  },
  {
   "cell_type": "code",
   "execution_count": 26,
   "metadata": {},
   "outputs": [],
   "source": [
    "train_ds = train_ds.map(process_image)\n",
    "test_ds = test_ds.map(process_image)"
   ]
  },
  {
   "cell_type": "code",
   "execution_count": 27,
   "metadata": {},
   "outputs": [
    {
     "name": "stdout",
     "output_type": "stream",
     "text": [
      "**** tf.Tensor(\n",
      "[[[214.98438  182.70312  167.14062 ]\n",
      "  [211.98438  183.98438  169.98438 ]\n",
      "  [214.2461   186.2461   172.2461  ]\n",
      "  ...\n",
      "  [133.08594  139.08594   95.08594 ]\n",
      "  [129.73828  135.73828   87.73828 ]\n",
      "  [128.28015  135.28015   84.28015 ]]\n",
      "\n",
      " [[216.       184.28125  168.4375  ]\n",
      "  [216.51746  188.51746  174.51746 ]\n",
      "  [217.       189.       175.      ]\n",
      "  ...\n",
      "  [134.17664  140.17664   96.176636]\n",
      "  [132.37708  138.37708   90.377075]\n",
      "  [131.       138.        87.      ]]\n",
      "\n",
      " [[217.       188.       171.4375  ]\n",
      "  [218.       189.       175.      ]\n",
      "  [214.40625  186.40625  172.40625 ]\n",
      "  ...\n",
      "  [135.       141.        97.      ]\n",
      "  [134.       140.        92.      ]\n",
      "  [132.       139.        88.      ]]\n",
      "\n",
      " ...\n",
      "\n",
      " [[ 33.        39.        53.      ]\n",
      "  [ 34.        40.        54.      ]\n",
      "  [ 37.        40.        55.      ]\n",
      "  ...\n",
      "  [141.31262  148.31262  104.31262 ]\n",
      "  [142.       149.       105.      ]\n",
      "  [143.       150.       106.      ]]\n",
      "\n",
      " [[ 34.        40.        54.      ]\n",
      "  [ 34.        40.        54.      ]\n",
      "  [ 37.        40.        55.      ]\n",
      "  ...\n",
      "  [143.       150.       106.      ]\n",
      "  [143.       150.       106.      ]\n",
      "  [145.       151.       107.      ]]\n",
      "\n",
      " [[ 33.        39.        53.      ]\n",
      "  [ 33.        39.        53.      ]\n",
      "  [ 36.        39.        54.      ]\n",
      "  ...\n",
      "  [143.       150.       106.      ]\n",
      "  [143.       150.       106.      ]\n",
      "  [146.       152.       108.      ]]], shape=(128, 128, 3), dtype=float32)\n",
      "**** tf.Tensor(b'dog', shape=(), dtype=string)\n"
     ]
    }
   ],
   "source": [
    "for image, label in train_ds.take(1):\n",
    "    print(\"****\",image)\n",
    "    print(\"****\",label)"
   ]
  },
  {
   "cell_type": "code",
   "execution_count": 28,
   "metadata": {},
   "outputs": [],
   "source": [
    "def scale(image, label):\n",
    "    return image/255, label"
   ]
  },
  {
   "cell_type": "code",
   "execution_count": 29,
   "metadata": {},
   "outputs": [],
   "source": [
    "train_ds = train_ds.map(scale)"
   ]
  },
  {
   "cell_type": "code",
   "execution_count": 31,
   "metadata": {
    "scrolled": true
   },
   "outputs": [
    {
     "name": "stdout",
     "output_type": "stream",
     "text": [
      "****Image:  [0.6059436  0.5353554  0.45692402]\n",
      "****Label:  b'dog'\n",
      "****Image:  [0.99607843 0.99607843 0.99607843]\n",
      "****Label:  b'dog'\n",
      "****Image:  [0.90226716 0.22889093 0.02723652]\n",
      "****Label:  b'cat'\n",
      "****Image:  [0.9588618  0.9602941  0.91736364]\n",
      "****Label:  b'dog'\n",
      "****Image:  [0.31072304 0.31072304 0.31072304]\n",
      "****Label:  b'dog'\n"
     ]
    }
   ],
   "source": [
    "for image, label in train_ds.take(5):\n",
    "    print(\"****Image: \",image.numpy()[0][0])\n",
    "    print(\"****Label: \",label.numpy())"
   ]
  },
  {
   "cell_type": "code",
   "execution_count": null,
   "metadata": {},
   "outputs": [],
   "source": []
  }
 ],
 "metadata": {
  "kernelspec": {
   "display_name": "Python 3",
   "language": "python",
   "name": "python3"
  },
  "language_info": {
   "codemirror_mode": {
    "name": "ipython",
    "version": 3
   },
   "file_extension": ".py",
   "mimetype": "text/x-python",
   "name": "python",
   "nbconvert_exporter": "python",
   "pygments_lexer": "ipython3",
   "version": "3.8.10"
  }
 },
 "nbformat": 4,
 "nbformat_minor": 4
}
