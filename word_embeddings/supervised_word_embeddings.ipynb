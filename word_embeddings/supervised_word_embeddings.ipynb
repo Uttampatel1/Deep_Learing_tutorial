{
 "cells": [
  {
   "cell_type": "code",
   "execution_count": 1,
   "metadata": {},
   "outputs": [
    {
     "name": "stderr",
     "output_type": "stream",
     "text": [
      "2023-08-09 18:34:39.103881: I tensorflow/tsl/cuda/cudart_stub.cc:28] Could not find cuda drivers on your machine, GPU will not be used.\n",
      "2023-08-09 18:34:39.783099: I tensorflow/tsl/cuda/cudart_stub.cc:28] Could not find cuda drivers on your machine, GPU will not be used.\n",
      "2023-08-09 18:34:39.787577: I tensorflow/core/platform/cpu_feature_guard.cc:182] This TensorFlow binary is optimized to use available CPU instructions in performance-critical operations.\n",
      "To enable the following instructions: AVX2 FMA, in other operations, rebuild TensorFlow with the appropriate compiler flags.\n",
      "2023-08-09 18:34:41.796807: W tensorflow/compiler/tf2tensorrt/utils/py_utils.cc:38] TF-TRT Warning: Could not find TensorRT\n"
     ]
    }
   ],
   "source": [
    "import numpy as np\n",
    "from tensorflow.keras.preprocessing.text import one_hot\n",
    "from tensorflow.keras.preprocessing.sequence import pad_sequences\n",
    "from tensorflow.keras.models import Sequential\n",
    "from tensorflow.keras.layers import Dense\n",
    "from tensorflow.keras.layers import Flatten\n",
    "from tensorflow.keras.layers import Embedding\n"
   ]
  },
  {
   "cell_type": "code",
   "execution_count": 2,
   "metadata": {},
   "outputs": [],
   "source": [
    "\n",
    "reviews = ['nice food',\n",
    "        'amazing restaurant',\n",
    "        'too good',\n",
    "        'just loved it!',\n",
    "        'will go again',\n",
    "        'horrible food',\n",
    "        'never go there',\n",
    "        'poor service',\n",
    "        'poor quality',\n",
    "        'needs improvement']\n",
    "\n",
    "sentiment = np.array([1,1,1,1,1,0,0,0,0,0])"
   ]
  },
  {
   "cell_type": "code",
   "execution_count": 12,
   "metadata": {},
   "outputs": [
    {
     "data": {
      "text/plain": [
       "[29, 25]"
      ]
     },
     "execution_count": 12,
     "metadata": {},
     "output_type": "execute_result"
    }
   ],
   "source": [
    "one_hot(\"amazing restaurant\",30)"
   ]
  },
  {
   "cell_type": "code",
   "execution_count": 15,
   "metadata": {},
   "outputs": [
    {
     "name": "stdout",
     "output_type": "stream",
     "text": [
      "[[22, 12], [29, 25], [28, 19], [7, 12, 28], [14, 27, 2], [8, 12], [7, 27, 27], [20, 13], [20, 14], [16, 21]]\n"
     ]
    }
   ],
   "source": [
    "vocab_size = 30\n",
    "encoded_reviews = [one_hot(d, vocab_size) for d in reviews]\n",
    "print(encoded_reviews)"
   ]
  },
  {
   "cell_type": "code",
   "execution_count": 17,
   "metadata": {},
   "outputs": [
    {
     "name": "stdout",
     "output_type": "stream",
     "text": [
      "[[22 12  0]\n",
      " [29 25  0]\n",
      " [28 19  0]\n",
      " [ 7 12 28]\n",
      " [14 27  2]\n",
      " [ 8 12  0]\n",
      " [ 7 27 27]\n",
      " [20 13  0]\n",
      " [20 14  0]\n",
      " [16 21  0]]\n"
     ]
    }
   ],
   "source": [
    "max_length = 3\n",
    "padded_reviews = pad_sequences(encoded_reviews, maxlen=max_length, padding='post')\n",
    "print(padded_reviews)"
   ]
  },
  {
   "cell_type": "code",
   "execution_count": 18,
   "metadata": {
    "scrolled": true
   },
   "outputs": [],
   "source": [
    "embeded_vector_size = 5\n",
    "\n",
    "model = Sequential()\n",
    "model.add(Embedding(vocab_size, embeded_vector_size, input_length=max_length,name=\"embedding\"))\n",
    "model.add(Flatten())\n",
    "model.add(Dense(1, activation='sigmoid'))"
   ]
  },
  {
   "cell_type": "code",
   "execution_count": 19,
   "metadata": {},
   "outputs": [],
   "source": [
    "X = padded_reviews\n",
    "y = sentiment"
   ]
  },
  {
   "cell_type": "code",
   "execution_count": 20,
   "metadata": {},
   "outputs": [
    {
     "name": "stdout",
     "output_type": "stream",
     "text": [
      "Model: \"sequential\"\n",
      "_________________________________________________________________\n",
      " Layer (type)                Output Shape              Param #   \n",
      "=================================================================\n",
      " embedding (Embedding)       (None, 3, 5)              150       \n",
      "                                                                 \n",
      " flatten (Flatten)           (None, 15)                0         \n",
      "                                                                 \n",
      " dense (Dense)               (None, 1)                 16        \n",
      "                                                                 \n",
      "=================================================================\n",
      "Total params: 166 (664.00 Byte)\n",
      "Trainable params: 166 (664.00 Byte)\n",
      "Non-trainable params: 0 (0.00 Byte)\n",
      "_________________________________________________________________\n",
      "None\n"
     ]
    }
   ],
   "source": [
    "model.compile(optimizer='adam', loss='binary_crossentropy', metrics=['accuracy'])\n",
    "print(model.summary())"
   ]
  },
  {
   "cell_type": "code",
   "execution_count": 21,
   "metadata": {
    "scrolled": true
   },
   "outputs": [
    {
     "data": {
      "text/plain": [
       "<keras.src.callbacks.History at 0x7fba2dfd3580>"
      ]
     },
     "execution_count": 21,
     "metadata": {},
     "output_type": "execute_result"
    }
   ],
   "source": [
    "model.fit(X, y, epochs=50, verbose=0)"
   ]
  },
  {
   "cell_type": "code",
   "execution_count": 22,
   "metadata": {},
   "outputs": [
    {
     "name": "stdout",
     "output_type": "stream",
     "text": [
      "1/1 [==============================] - 0s 161ms/step - loss: 0.6089 - accuracy: 1.0000\n"
     ]
    },
    {
     "data": {
      "text/plain": [
       "1.0"
      ]
     },
     "execution_count": 22,
     "metadata": {},
     "output_type": "execute_result"
    }
   ],
   "source": [
    "# evaluate the model\n",
    "loss, accuracy = model.evaluate(X, y)\n",
    "accuracy"
   ]
  },
  {
   "cell_type": "code",
   "execution_count": 24,
   "metadata": {},
   "outputs": [
    {
     "data": {
      "text/plain": [
       "(array([[ 0.03236542,  0.06477103,  0.09547648, -0.08274522, -0.07061965],\n",
       "        [ 0.00627177,  0.01322332,  0.00360274, -0.03108301, -0.03056889],\n",
       "        [-0.02096195, -0.0024853 , -0.07161245,  0.07221312,  0.06774015],\n",
       "        [ 0.02991779, -0.01268015,  0.025845  ,  0.02927537, -0.00904145],\n",
       "        [-0.02896817,  0.02329225,  0.03618724,  0.02790527,  0.00847606],\n",
       "        [ 0.02536431, -0.0157652 , -0.01409587,  0.01872284, -0.01916599],\n",
       "        [ 0.04099298, -0.01870661, -0.00909613,  0.04619188,  0.04571014],\n",
       "        [-0.00982047, -0.01898352, -0.01418165, -0.00294011, -0.02435246],\n",
       "        [-0.06431267,  0.07069755, -0.06468374, -0.03968975, -0.02878605],\n",
       "        [-0.01203927,  0.00736169, -0.00716916,  0.01084222, -0.00284366],\n",
       "        [-0.03320636,  0.02140174, -0.01662811,  0.02957949, -0.00850094],\n",
       "        [ 0.03738729,  0.04072801,  0.02925504,  0.03808757,  0.04551346],\n",
       "        [ 0.01719288, -0.05125578, -0.07507242,  0.06460961,  0.01612989],\n",
       "        [-0.06861306,  0.01995276,  0.07110431, -0.06585646, -0.0971133 ],\n",
       "        [-0.09905493, -0.08742264,  0.03511305, -0.08427931,  0.04507172],\n",
       "        [-0.02715106, -0.03346088,  0.04880982, -0.00387173,  0.02927488],\n",
       "        [-0.07021691,  0.01364459, -0.0979899 , -0.07967012, -0.0040867 ],\n",
       "        [-0.03086225, -0.00594971,  0.03523821,  0.01440746,  0.01766973],\n",
       "        [ 0.02056571, -0.04322387,  0.01026201, -0.01514165,  0.02677933],\n",
       "        [ 0.05413653, -0.03271828, -0.00743874,  0.04204303,  0.02149758],\n",
       "        [-0.0663067 ,  0.07684617, -0.03486233, -0.05770446, -0.06036316],\n",
       "        [-0.07110649,  0.02948094,  0.03886721, -0.03834486, -0.09521862],\n",
       "        [ 0.04294708, -0.0199438 ,  0.04800302,  0.0467844 ,  0.00929201],\n",
       "        [ 0.04002067, -0.00842787,  0.04172717, -0.02895747,  0.01458393],\n",
       "        [ 0.02177056,  0.04997772,  0.03177741,  0.03250175, -0.02138953],\n",
       "        [ 0.02778918, -0.08334432, -0.01290882,  0.02963942,  0.05669693],\n",
       "        [ 0.04218249,  0.04586223, -0.02127221, -0.02817532, -0.02306968],\n",
       "        [ 0.01216984,  0.08239798,  0.01749718, -0.08429226, -0.0752356 ],\n",
       "        [ 0.00390813, -0.02876227,  0.05762536,  0.02255344,  0.09034465],\n",
       "        [ 0.09328879, -0.01161853,  0.09456595,  0.00072816,  0.09997588]],\n",
       "       dtype=float32),\n",
       " 30)"
      ]
     },
     "execution_count": 24,
     "metadata": {},
     "output_type": "execute_result"
    }
   ],
   "source": [
    "weights = model.get_layer('embedding').get_weights()[0]\n",
    "weights ,len(weights)"
   ]
  },
  {
   "cell_type": "code",
   "execution_count": 25,
   "metadata": {},
   "outputs": [
    {
     "data": {
      "text/plain": [
       "array([-0.06861306,  0.01995276,  0.07110431, -0.06585646, -0.0971133 ],\n",
       "      dtype=float32)"
      ]
     },
     "execution_count": 25,
     "metadata": {},
     "output_type": "execute_result"
    }
   ],
   "source": [
    "weights[13]"
   ]
  },
  {
   "cell_type": "code",
   "execution_count": 26,
   "metadata": {
    "scrolled": false
   },
   "outputs": [
    {
     "data": {
      "text/plain": [
       "array([-0.02896817,  0.02329225,  0.03618724,  0.02790527,  0.00847606],\n",
       "      dtype=float32)"
      ]
     },
     "execution_count": 26,
     "metadata": {},
     "output_type": "execute_result"
    }
   ],
   "source": [
    "weights[4]"
   ]
  },
  {
   "cell_type": "code",
   "execution_count": 27,
   "metadata": {
    "scrolled": true
   },
   "outputs": [
    {
     "data": {
      "text/plain": [
       "array([-0.07021691,  0.01364459, -0.0979899 , -0.07967012, -0.0040867 ],\n",
       "      dtype=float32)"
      ]
     },
     "execution_count": 27,
     "metadata": {},
     "output_type": "execute_result"
    }
   ],
   "source": [
    "weights[16]"
   ]
  },
  {
   "cell_type": "code",
   "execution_count": null,
   "metadata": {},
   "outputs": [],
   "source": []
  }
 ],
 "metadata": {
  "kernelspec": {
   "display_name": "Python 3",
   "language": "python",
   "name": "python3"
  },
  "language_info": {
   "codemirror_mode": {
    "name": "ipython",
    "version": 3
   },
   "file_extension": ".py",
   "mimetype": "text/x-python",
   "name": "python",
   "nbconvert_exporter": "python",
   "pygments_lexer": "ipython3",
   "version": "3.8.10"
  }
 },
 "nbformat": 4,
 "nbformat_minor": 4
}
